{
 "cells": [
  {
   "cell_type": "markdown",
   "id": "eebd4799-0b41-4b5e-851b-48921e346fe0",
   "metadata": {
    "jp-MarkdownHeadingCollapsed": true
   },
   "source": [
    "<h1><center>Automatic Quiz Generation from Documents/Web Page</center></h1>\n",
    "<h2><center>AI-powered Educational Assistant / Content Generator</center></h2>\n",
    "<h3><center>Build AI Apps - Beginner Level</center></h3>\n",
    "<h4><center>Education<center></h4>"
   ]
  },
  {
   "cell_type": "markdown",
   "id": "3027c076-f502-4193-bc3e-e18be296c413",
   "metadata": {},
   "source": [
    "**Use Case** : Create an educational quiz bot using the OpenAI API to generate questions and answers:"
   ]
  },
  {
   "cell_type": "markdown",
   "id": "6921b900-268e-4c86-990a-ad207b5b62ce",
   "metadata": {},
   "source": [
    "## Before you start\n",
    "\n",
    "In order to complete the project you will need to create a developer account with OpenAI and store your API key as an environment variable. Instructions for these steps are outlined below.\n",
    "\n",
    "### Create a developer account with OpenAI\n",
    "\n",
    "1. Go to the [API signup page](https://platform.openai.com/signup). \n",
    "\n",
    "2. Create your account (you'll need to provide your email address and your phone number).\n",
    "\n",
    "3. Go to the [API keys page](https://platform.openai.com/account/api-keys). \n",
    "\n",
    "4. Create a new secret key.\n",
    "\n",
    "\n",
    "5. **Take a copy of it**. (If you lose it, delete the key and create a new one.)"
   ]
  },
  {
   "cell_type": "markdown",
   "id": "c474a63a-332f-43b6-897e-7d696e494982",
   "metadata": {},
   "source": [
    "### Add a payment method\n",
    "\n",
    "OpenAI sometimes provides free credits for the API, but this can vary based on geography. You may need to add debit/credit card details. \n",
    "\n",
    "**Using the `gpt-3.5-turbo` model in this project should incur a cost less than 1 US cent (but if you rerun tasks, you will be charged every time).** For more information on pricing, see [OpenAI's pricing page](https://openai.com/pricing).\n",
    "\n",
    "1. Go to the [Payment Methods page](https://platform.openai.com/account/billing/payment-methods).\n",
    "\n",
    "2. Click Add payment method.\n",
    "\n",
    "3. Fill in your card details."
   ]
  },
  {
   "cell_type": "markdown",
   "id": "2607550d-859a-4a59-9a0f-7fe6a44fffba",
   "metadata": {},
   "source": [
    "### Install open ai library\n"
   ]
  },
  {
   "cell_type": "code",
   "execution_count": 14,
   "id": "c2fa4667-fcb0-4ce2-b7df-6564bb8dce07",
   "metadata": {},
   "outputs": [],
   "source": [
    "# !pip install openai"
   ]
  },
  {
   "cell_type": "markdown",
   "id": "54285369-ded7-4168-9a44-2bc5cd72c4ee",
   "metadata": {},
   "source": [
    "### Load Open AI Key"
   ]
  },
  {
   "cell_type": "code",
   "execution_count": 15,
   "id": "2bd3a009-47b2-4cfe-8168-895c15c20cc9",
   "metadata": {},
   "outputs": [],
   "source": [
    "import os\n",
    "from dotenv import load_dotenv, find_dotenv\n",
    "_ = load_dotenv(find_dotenv()) # read local .env file\n",
    "\n",
    "from openai import OpenAI\n",
    "OPEN_API_KEY=os.getenv('OPENAI_API_KEY')\n",
    "\n",
    "# Define Model\n",
    "model=\"gpt-4o-mini\"\n",
    "\n",
    "#define client\n",
    "client = OpenAI(api_key=OPEN_API_KEY)"
   ]
  },
  {
   "cell_type": "markdown",
   "id": "a7deacb4-a4cf-4254-867f-68910fa48320",
   "metadata": {},
   "source": [
    "# Quiz Generation Application"
   ]
  },
  {
   "cell_type": "markdown",
   "id": "9a192c82-2434-4665-81de-e1f926760346",
   "metadata": {},
   "source": [
    "### Read Data From Text File"
   ]
  },
  {
   "cell_type": "code",
   "execution_count": 24,
   "id": "152a1ae4-acb1-4a31-a1f0-796ea149e70d",
   "metadata": {},
   "outputs": [],
   "source": [
    "# Safely read a limited number of lines from a text file\n",
    "def read_text_from_file(filename, max_lines=100):\n",
    "    try:\n",
    "        with open(filename, 'r') as file:\n",
    "            return ''.join([line for _, line in zip(range(max_lines), file)])\n",
    "    except FileNotFoundError:\n",
    "        print(f\"Error: {filename} not found.\")\n",
    "        return \"\"\n",
    "\n",
    "# Read content from the file\n",
    "content = read_text_from_file(\"physics_lecture.txt\")\n",
    "\n",
    "# print(content)"
   ]
  },
  {
   "cell_type": "markdown",
   "id": "2df2dada-2d9f-4c8e-a389-ed638b40d794",
   "metadata": {},
   "source": [
    "### Read Data From Web Page"
   ]
  },
  {
   "cell_type": "code",
   "execution_count": 17,
   "id": "73142a88-cab4-4f10-9276-d490a48a3038",
   "metadata": {
    "scrolled": true
   },
   "outputs": [],
   "source": [
    "import requests\n",
    "from bs4 import BeautifulSoup\n",
    "\n",
    "def read_text_from_webpage(url, max_lines=15):\n",
    "    try:\n",
    "        response = requests.get(url)\n",
    "        response.raise_for_status()  # Raise error if request failed\n",
    "\n",
    "        soup = BeautifulSoup(response.text, 'html.parser')\n",
    "\n",
    "        # Extract text from paragraphs in the main content area\n",
    "        paragraphs = soup.find_all('p')\n",
    "        selected_text = \"\\n\".join(p.get_text() for p in paragraphs[:max_lines])\n",
    "        \n",
    "        return selected_text\n",
    "\n",
    "    except Exception as e:\n",
    "        print(f\"Error reading from {url}: {e}\")\n",
    "        return \"\"\n",
    "# read_text_from_webpage(\"https://en.wikipedia.org/wiki/Earth\")"
   ]
  },
  {
   "cell_type": "markdown",
   "id": "cf729885-2bd1-49b1-8597-0263086048e7",
   "metadata": {},
   "source": [
    "### Define Prompts"
   ]
  },
  {
   "cell_type": "code",
   "execution_count": 18,
   "id": "bee73af5-136a-4a20-8baf-14075e886b18",
   "metadata": {},
   "outputs": [],
   "source": [
    "\n",
    "# Define the system prompt (describing the assistant's behavior)\n",
    "system_prompt = \"\"\"\n",
    "You are a teaching assistant that generates multiple-choice questions from a provided educational text.\n",
    "Your role is to assist educators by creating quiz questions with one correct answer.\n",
    "\"\"\"\n",
    "\n",
    "# Define the user prompt template (input provided by the user)\n",
    "user_prompt = \"\"\"\n",
    "Generate a multiple-choice quiz question from the given text:\n",
    "\n",
    "Format:\n",
    "Question: <Generated Question>\n",
    "Options:\n",
    "a) <Option 1>\n",
    "\n",
    "b) <Option 2>\n",
    "\n",
    "c) <Option 3>\n",
    "\n",
    "d) <Option 4>\n",
    "\n",
    "Answer: <Correct Option>\n",
    "\"\"\""
   ]
  },
  {
   "cell_type": "code",
   "execution_count": 19,
   "id": "9f04a952-5f90-47a9-bb73-3db73fa3ef2b",
   "metadata": {},
   "outputs": [],
   "source": [
    "### Function To Generate Question"
   ]
  },
  {
   "cell_type": "code",
   "execution_count": 20,
   "id": "204eb810-0a41-430e-be79-60c059c6c115",
   "metadata": {},
   "outputs": [],
   "source": [
    "# def generate_quiz_questions(text):\n",
    "#     \"\"\"\n",
    "#     Generates a list of multiple-choice quiz questions and answers from the provided text.\n",
    "#     Args: text (str): The input text from which quiz questions are generated.\n",
    "#     Returns: list: A list of dictionaries containing quiz questions, options, and correct answers.\n",
    "#     \"\"\"\n",
    "#     # List to store generated quiz questions and answers\n",
    "#     quiz_data_list = []\n",
    "\n",
    "#     for i in range(5):\n",
    "        \n",
    "#         # Get a response from the OpenAI API to generate the quiz questions\n",
    "#         response = client.chat.completions.create(\n",
    "#             model=model,\n",
    "#             messages=[\n",
    "#                 {\"role\": \"system\", \"content\": system_prompt + text},\n",
    "#                 {\"role\": \"user\", \"content\": user_prompt}\n",
    "#             ],\n",
    "#             max_tokens=500\n",
    "#         )\n",
    "\n",
    "#         # Extract the questions and answers from the response\n",
    "#         question_and_answer = response.choices[0].message.content\n",
    "\n",
    "#         # Add the generated question and answer to the list\n",
    "#         quiz_data_list.append(question_and_answer)\n",
    "\n",
    "#     return quiz_data_list\n",
    "\n",
    "# # Generate quiz questions from the content provided\n",
    "# quiz_data = generate_quiz_questions(content)\n",
    "\n",
    "# # View the first question and answer set\n",
    "# quiz_data[0]"
   ]
  },
  {
   "cell_type": "code",
   "execution_count": 21,
   "id": "ee015c3a-04a7-4d56-8119-a9d31fb9cc39",
   "metadata": {},
   "outputs": [],
   "source": [
    "\n",
    "def split_text_into_chunks(text, max_tokens=300):\n",
    "    # Naive split based on sentences;\n",
    "    import textwrap\n",
    "    sentences = text.split('. ')\n",
    "    chunks = []\n",
    "    current_chunk = ''\n",
    "    for sentence in sentences:\n",
    "        if len(current_chunk.split()) + len(sentence.split()) < max_tokens:\n",
    "            current_chunk += sentence + '. '\n",
    "        else:\n",
    "            chunks.append(current_chunk.strip())\n",
    "            current_chunk = sentence + '. '\n",
    "    if current_chunk:\n",
    "        chunks.append(current_chunk.strip())\n",
    "    return chunks[:5]  # Limit to top 5 chunks for now\n",
    "\n",
    "def generate_quiz_questions(text):\n",
    "    quiz_data_list = []\n",
    "    chunks = split_text_into_chunks(text)\n",
    "\n",
    "    for chunk in chunks:\n",
    "        response = client.chat.completions.create(\n",
    "            model=model,\n",
    "            messages=[\n",
    "                {\"role\": \"system\", \"content\": system_prompt + chunk},\n",
    "                {\"role\": \"user\", \"content\": user_prompt}\n",
    "            ],\n",
    "            max_tokens=500\n",
    "        )\n",
    "        question_and_answer = response.choices[0].message.content\n",
    "        quiz_data_list.append(question_and_answer)\n",
    "\n",
    "    return quiz_data_list\n"
   ]
  },
  {
   "cell_type": "code",
   "execution_count": 22,
   "id": "1885097e-d49a-480e-a7c4-6c7bd1e14737",
   "metadata": {},
   "outputs": [],
   "source": [
    "def process_input(source_selection,file, url):\n",
    "    try:\n",
    "        if file:\n",
    "            text = read_text_from_file(file)\n",
    "        elif url:\n",
    "            text = read_text_from_webpage(url)\n",
    "        else:\n",
    "            return \"Please upload a file or enter a URL.\"\n",
    "\n",
    "        quiz_data_list = generate_quiz_questions(text)\n",
    "\n",
    "        # Convert the list of questions into a single string\n",
    "        quiz_output = \"\\n\\n\".join(quiz_data_list)\n",
    "\n",
    "        return quiz_output\n",
    "    except Exception as e:\n",
    "        return f\"An error occurred: {str(e)}\"\n"
   ]
  },
  {
   "cell_type": "code",
   "execution_count": 23,
   "id": "07bd4592-9d21-44e2-88e8-e1835f3b0b4a",
   "metadata": {},
   "outputs": [
    {
     "name": "stdout",
     "output_type": "stream",
     "text": [
      "* Running on local URL:  http://127.0.0.1:7864\n",
      "* To create a public link, set `share=True` in `launch()`.\n"
     ]
    },
    {
     "data": {
      "text/html": [
       "<div><iframe src=\"http://127.0.0.1:7864/\" width=\"100%\" height=\"500\" allow=\"autoplay; camera; microphone; clipboard-read; clipboard-write;\" frameborder=\"0\" allowfullscreen></iframe></div>"
      ],
      "text/plain": [
       "<IPython.core.display.HTML object>"
      ]
     },
     "metadata": {},
     "output_type": "display_data"
    },
    {
     "data": {
      "text/plain": []
     },
     "execution_count": 23,
     "metadata": {},
     "output_type": "execute_result"
    }
   ],
   "source": [
    "import gradio as gr\n",
    "\n",
    "with gr.Blocks() as demo:\n",
    "    gr.Markdown(\"## 🧪 Quiz Generator from Text File or Webpage\")\n",
    "\n",
    "    input_method = gr.Radio([\"Upload File\", \"Enter URL\"], label=\"Select Input Method\")\n",
    "    file_input = gr.File(label=\"Upload a text file (.txt)\")\n",
    "    url_input = gr.Textbox(label=\"Enter a webpage URL\")\n",
    "    submit_btn = gr.Button(\"Generate Quiz\")\n",
    "    output = gr.Markdown()\n",
    "\n",
    "    submit_btn.click(\n",
    "        fn=process_input,\n",
    "        inputs=[input_method, file_input, url_input],\n",
    "        outputs=output\n",
    "    )\n",
    "\n",
    "# demo.launch(debug=True)\n",
    "demo.launch()\n"
   ]
  }
 ],
 "metadata": {
  "kernelspec": {
   "display_name": "Python 3 (ipykernel)",
   "language": "python",
   "name": "python3"
  },
  "language_info": {
   "codemirror_mode": {
    "name": "ipython",
    "version": 3
   },
   "file_extension": ".py",
   "mimetype": "text/x-python",
   "name": "python",
   "nbconvert_exporter": "python",
   "pygments_lexer": "ipython3",
   "version": "3.12.7"
  }
 },
 "nbformat": 4,
 "nbformat_minor": 5
}
