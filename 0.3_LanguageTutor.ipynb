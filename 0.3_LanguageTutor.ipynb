{
 "cells": [
  {
   "cell_type": "markdown",
   "id": "eebd4799-0b41-4b5e-851b-48921e346fe0",
   "metadata": {},
   "source": [
    "<h1><center>Personalized Language Tutor</center></h1>\n",
    "<h2><center></center></h2>\n",
    "<h3><center>Build AI Apps - Beginner Level</center></h3>\n",
    "<h4><center>Education<center></h4>"
   ]
  },
  {
   "cell_type": "markdown",
   "id": "3027c076-f502-4193-bc3e-e18be296c413",
   "metadata": {},
   "source": [
    "**Usecase** Using OpenAI API for text translation and  grammar checking!"
   ]
  },
  {
   "cell_type": "markdown",
   "id": "6921b900-268e-4c86-990a-ad207b5b62ce",
   "metadata": {},
   "source": [
    "## Before you start\n",
    "\n",
    "In order to complete the project you will need to create a developer account with OpenAI and store your API key as an environment variable. Instructions for these steps are outlined below.\n",
    "\n",
    "### Create a developer account with OpenAI\n",
    "\n",
    "1. Go to the [API signup page](https://platform.openai.com/signup). \n",
    "\n",
    "2. Create your account (you'll need to provide your email address and your phone number).\n",
    "\n",
    "3. Go to the [API keys page](https://platform.openai.com/account/api-keys). \n",
    "\n",
    "4. Create a new secret key.\n",
    "\n",
    "\n",
    "5. **Take a copy of it**. (If you lose it, delete the key and create a new one.)"
   ]
  },
  {
   "cell_type": "markdown",
   "id": "c474a63a-332f-43b6-897e-7d696e494982",
   "metadata": {},
   "source": [
    "### Add a payment method\n",
    "\n",
    "OpenAI sometimes provides free credits for the API, but this can vary based on geography. You may need to add debit/credit card details. \n",
    "\n",
    "**Using the `gpt-3.5-turbo` model in this project should incur a cost less than 1 US cent (but if you rerun tasks, you will be charged every time).** For more information on pricing, see [OpenAI's pricing page](https://openai.com/pricing).\n",
    "\n",
    "1. Go to the [Payment Methods page](https://platform.openai.com/account/billing/payment-methods).\n",
    "\n",
    "2. Click Add payment method.\n",
    "\n",
    "3. Fill in your card details."
   ]
  },
  {
   "cell_type": "markdown",
   "id": "2607550d-859a-4a59-9a0f-7fe6a44fffba",
   "metadata": {},
   "source": [
    "### Install open ai library\n"
   ]
  },
  {
   "cell_type": "code",
   "execution_count": 11,
   "id": "c2fa4667-fcb0-4ce2-b7df-6564bb8dce07",
   "metadata": {},
   "outputs": [],
   "source": [
    "# !pip install openai"
   ]
  },
  {
   "cell_type": "markdown",
   "id": "54285369-ded7-4168-9a44-2bc5cd72c4ee",
   "metadata": {},
   "source": [
    "### Load Open AI Key"
   ]
  },
  {
   "cell_type": "code",
   "execution_count": 12,
   "id": "2bd3a009-47b2-4cfe-8168-895c15c20cc9",
   "metadata": {},
   "outputs": [],
   "source": [
    "import os\n",
    "from openai import OpenAI\n",
    "\n",
    "from dotenv import load_dotenv, find_dotenv\n",
    "_ = load_dotenv(find_dotenv()) # read local .env file\n",
    "\n",
    "OPEN_API_KEY=os.getenv('OPENAI_API_KEY')\n",
    "\n",
    "# Define Model\n",
    "# model=\"gpt-4o-mini\"\n",
    "# model=\"whisper-1\"\n",
    "\n",
    "#define client\n",
    "client = OpenAI(api_key=OPEN_API_KEY)"
   ]
  },
  {
   "cell_type": "markdown",
   "id": "5d344e93-6954-4133-8d17-4814a4c721aa",
   "metadata": {},
   "source": [
    "# Language Tutor"
   ]
  },
  {
   "cell_type": "code",
   "execution_count": 13,
   "id": "2fbe7e8a-a0e4-42dd-8efa-72ccb819cd06",
   "metadata": {},
   "outputs": [
    {
     "name": "stdout",
     "output_type": "stream",
     "text": [
      "The stale smell of old beer lingers. It takes heat to bring out the odor. A cold dip restores health and zest. A salt pickle tastes fine with ham. Tacos al pastor are my favorite. A zestful food is the hot cross bun.\n"
     ]
    }
   ],
   "source": [
    "\n",
    "# Transcribe audio using Whisper-1 model and store in transcription_text\n",
    "\n",
    "with open(\"harvard.wav\", \"rb\") as audio_file:\n",
    "    # Call the Whisper-1 model for audio transcription\n",
    "    transcription_response = client.audio.transcriptions.create(model=\"whisper-1\", file=audio_file)\n",
    "    # Store the transcribed text\n",
    "    transcription_text = transcription_response.text  \n",
    "\n",
    "print(transcription_text)\n",
    "    \n"
   ]
  },
  {
   "cell_type": "code",
   "execution_count": 14,
   "id": "baa454c8-a910-4741-ac13-0e8647ffee8d",
   "metadata": {},
   "outputs": [
    {
     "name": "stdout",
     "output_type": "stream",
     "text": [
      "Translated Text into Hindi: पुरानी बीयर की बासी गंध linger करती है। गंध निकालने के लिए गर्मी की आवश्यकता होती है। ठंडा स्नान स्वास्थ्य और ऊर्जा को बहाल करता है। एक नमकीन अचार हैम के साथ अच्छा लगता है। टैकोस अल पास्टर मेरे पसंदीदा हैं। एक उमंग भरा खाना गर्म क्रॉस बन है।\n"
     ]
    }
   ],
   "source": [
    "# Step 1: Translate the transcription_text to French\n",
    "\n",
    "target_language = 'Hindi'\n",
    "\n",
    "completion = client.chat.completions.create(\n",
    "        model=\"gpt-4o-mini\",\n",
    "        messages=[\n",
    "            {\"role\": \"system\", \"content\": \"You are a helpful assistant.\"},\n",
    "            {\"role\": \"user\", \"content\": f\"Please translate the following text to {target_language}: {transcription_text}\"}        \n",
    "        ]\n",
    "    )\n",
    "\n",
    "translated_text = completion.choices[0].message.content\n",
    "\n",
    "print(f\"Translated Text into {target_language}: {translated_text}\")\n"
   ]
  },
  {
   "cell_type": "code",
   "execution_count": 15,
   "id": "09d0b025-46d4-476a-9e48-c3ce82845a66",
   "metadata": {},
   "outputs": [
    {
     "name": "stdout",
     "output_type": "stream",
     "text": [
      "Grammar Checked Text: Here is the corrected text along with feedback:\n",
      "\n",
      "**Corrected Text:**\n",
      "पुरानी बीयर की बासी गंध लिंगर करती है। गंध निकालने के लिए गर्मी की आवश्यकता होती है। ठंडा स्नान स्वास्थ्य और ऊर्जा को बहाल करता है। एक नमकीन अचार हैम के साथ अच्छा लगता है। टैकोस अल पास्टर मेरे पसंदीदा हैं। एक उमंग भरा खाना गर्म क्रॉसबन है।\n",
      "\n",
      "**Feedback:**\n",
      "1. **लिंगर (linger):** It's better to use \"लिंगर\" in Devanagari script (लिंगर) as it is a borrowed word, but the usage of \"लिंगर\" itself is appropriate here.\n",
      "2. **क्रॉस बन (cross bun):** The term \"गर्म क्रॉस बन\" should be written as \"गर्म क्रॉसबन\" without the space for clarity and correctness.\n",
      "3. **Other Sentence Structures:** Overall, the sentence structures are quite good. Each sentence conveys a clear meaning and maintains coherence.\n",
      "\n",
      "Your text has a good variety of sentences and correct usage of vocabulary, which makes it interesting. Keep practicing!\n"
     ]
    }
   ],
   "source": [
    "\n",
    "# Step 2: Get grammar feedback for the translated text\n",
    "\n",
    "completion = client.chat.completions.create(\n",
    "        model=\"gpt-4o-mini\",\n",
    "        messages=[\n",
    "            {\"role\": \"system\", \"content\": \"You are a language learning assistant providing grammar feedback.\"},\n",
    "            {\"role\": \"user\", \"content\":  f\"Please correct any grammar mistakes in the following text and provide feedback: {translated_text}\"}\n",
    "        ]\n",
    "    )\n",
    "grammar_feedback = completion.choices[0].message.content\n",
    "\n",
    "print(f\"Grammar Checked Text: {grammar_feedback}\")\n",
    "\n"
   ]
  }
 ],
 "metadata": {
  "kernelspec": {
   "display_name": "Python 3 (ipykernel)",
   "language": "python",
   "name": "python3"
  },
  "language_info": {
   "codemirror_mode": {
    "name": "ipython",
    "version": 3
   },
   "file_extension": ".py",
   "mimetype": "text/x-python",
   "name": "python",
   "nbconvert_exporter": "python",
   "pygments_lexer": "ipython3",
   "version": "3.12.7"
  }
 },
 "nbformat": 4,
 "nbformat_minor": 5
}
