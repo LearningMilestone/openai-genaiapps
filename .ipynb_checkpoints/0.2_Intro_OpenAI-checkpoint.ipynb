{
 "cells": [
  {
   "cell_type": "markdown",
   "id": "6dde5753-f588-43d6-8ad5-586ef66057e6",
   "metadata": {},
   "source": [
    "<h1><center>Introduction To OPEN AI API</center></h1>\n",
    "<h2><center>Making Calls</center></h2>\n",
    "<h3><center>Build AI Apps - Beginner Level</center></h3>\n"
   ]
  },
  {
   "cell_type": "markdown",
   "id": "1b3f4bfa-7446-4110-b6a0-f0102e12e46d",
   "metadata": {},
   "source": [
    "## Introduce OPEN AI API"
   ]
  },
  {
   "cell_type": "markdown",
   "id": "84372b75-27b3-41aa-8171-1e947e62bc10",
   "metadata": {},
   "source": [
    "## Before you start\n",
    "\n",
    "In order to complete the project you will need to create a developer account with OpenAI and store your API key as an environment variable. Instructions for these steps are outlined below.\n",
    "\n",
    "### Create a developer account with OpenAI\n",
    "\n",
    "1. Go to the [API signup page](https://platform.openai.com/signup). \n",
    "\n",
    "2. Create your account (you'll need to provide your email address and your phone number).\n",
    "\n",
    "3. Go to the [API keys page](https://platform.openai.com/account/api-keys). \n",
    "\n",
    "4. Create a new secret key.\n",
    "\n",
    "\n",
    "5. **Take a copy of it**. (If you lose it, delete the key and create a new one.)"
   ]
  },
  {
   "cell_type": "markdown",
   "id": "af8f4516-3ada-4399-81f1-2cb9df130d1b",
   "metadata": {},
   "source": [
    "### Add a payment method\n",
    "\n",
    "OpenAI sometimes provides free credits for the API, but this can vary based on geography. You may need to add debit/credit card details. \n",
    "\n",
    "**Using the `gpt-3.5-turbo` model in this project should incur a cost less than 1 US cent (but if you rerun tasks, you will be charged every time).** For more information on pricing, see [OpenAI's pricing page](https://openai.com/pricing).\n",
    "\n",
    "1. Go to the [Payment Methods page](https://platform.openai.com/account/billing/payment-methods).\n",
    "\n",
    "2. Click Add payment method.\n",
    "\n",
    "3. Fill in your card details."
   ]
  },
  {
   "cell_type": "markdown",
   "id": "8ed9bc79-d512-49e6-8e9a-412a81e53b9b",
   "metadata": {},
   "source": [
    "### Install open ai library\n"
   ]
  },
  {
   "cell_type": "code",
   "execution_count": 70,
   "id": "226e38de-3f91-4e5a-9dc5-92ee4938a990",
   "metadata": {},
   "outputs": [],
   "source": [
    "# !pip install openai"
   ]
  },
  {
   "cell_type": "markdown",
   "id": "0a7de273-9a26-4793-a24e-09a9a213a0fa",
   "metadata": {},
   "source": [
    "### Load Open AI Key"
   ]
  },
  {
   "cell_type": "code",
   "execution_count": 71,
   "id": "0a9a6a5e-ec60-46c3-a43c-474d23fc14c0",
   "metadata": {},
   "outputs": [],
   "source": [
    "import os\n",
    "from openai import OpenAI\n",
    "\n",
    "from dotenv import load_dotenv, find_dotenv\n",
    "_ = load_dotenv(find_dotenv()) # read local .env file\n",
    "\n",
    "OPEN_API_KEY=os.getenv('OPENAI_API_KEY')\n",
    "\n",
    "# Define Model\n",
    "model=\"gpt-4\"\n",
    "\n",
    "#define client\n",
    "client = OpenAI(api_key=OPEN_API_KEY)"
   ]
  },
  {
   "cell_type": "markdown",
   "id": "69fdbf0a-1211-4cd0-a9f1-c6b1c460e698",
   "metadata": {},
   "source": [
    "## Make Your First Call"
   ]
  },
  {
   "cell_type": "code",
   "execution_count": 72,
   "id": "e7c01fdf-32ca-4113-b01b-6c7897dc2503",
   "metadata": {},
   "outputs": [
    {
     "name": "stdout",
     "output_type": "stream",
     "text": [
      "Gravity is a natural force that attract two objects toward each other. The more mass an object has, the stronger its gravitational pull. It is the force that keeps us on Earth and also governs the motion of planets, stars, and galaxies.\n"
     ]
    }
   ],
   "source": [
    "\n",
    "# Create the request\n",
    "response = client.chat.completions.create(\n",
    "  model=model,\n",
    "  messages=[\n",
    "   {\"role\": \"user\", \"content\": \"Tell me in short what is gravity\"}]\n",
    ")\n",
    "\n",
    "# Print the response\n",
    "print(response.choices[0].message.content)"
   ]
  },
  {
   "cell_type": "code",
   "execution_count": 73,
   "id": "148359d5-9f54-45fe-a51a-9f0dd6771329",
   "metadata": {},
   "outputs": [],
   "source": [
    "# API Response in Structured JSON"
   ]
  },
  {
   "cell_type": "markdown",
   "id": "0a9908b8-6f93-4325-bbff-3f8c76639cf0",
   "metadata": {},
   "source": [
    "As a librarian cataloging new books, you aim to leverage the OpenAI API to automate the creation of a JSON file from text notes you received from a colleague. Your task is to extract relevant information such as book titles and authors and to do this, you use the OpenAI API to convert the text notes, that include book titles and authors, into structured JSON files."
   ]
  },
  {
   "cell_type": "code",
   "execution_count": 74,
   "id": "9a5aff48-e725-4c52-bb01-a88b3f98e955",
   "metadata": {},
   "outputs": [],
   "source": [
    "\n",
    "# # Create the request\n",
    "# response = client.chat.completions.create(\n",
    "#   model=model,\n",
    "#   messages=[\n",
    "#    {\"role\": \"user\", \"content\": \"I have these notes with book titles and authors: New releases this week! The Beholders by Hester Musson, The Mystery Guest by Nita Prose. Please organize the titles and authors in a json file.\"}\n",
    "#   ],\n",
    "#   # # Specify the response format\n",
    "#   # response_format={\"type\": \"json_object\"}\n",
    "# )\n",
    "\n",
    "# # Print the response\n",
    "# print(response.choices[0].message.content)"
   ]
  },
  {
   "cell_type": "markdown",
   "id": "86da9ad7-74ef-4169-a3d3-e6003f43d374",
   "metadata": {},
   "source": [
    "## Exception Handling"
   ]
  },
  {
   "cell_type": "code",
   "execution_count": null,
   "id": "2395bebf-d1a1-47e7-84c7-60f8a83d00b1",
   "metadata": {},
   "outputs": [],
   "source": []
  },
  {
   "cell_type": "markdown",
   "id": "1b2928ad-35fc-43f5-a03a-246e4209f342",
   "metadata": {},
   "source": [
    "## Create Prompt - Define the conversation"
   ]
  },
  {
   "cell_type": "markdown",
   "id": "bcd35e62-a008-4815-b3d0-2d127921b2ac",
   "metadata": {},
   "source": [
    "## Zero Shot"
   ]
  },
  {
   "cell_type": "code",
   "execution_count": 75,
   "id": "56999f0a-4f8a-4386-8c64-200eb0cf00ff",
   "metadata": {},
   "outputs": [],
   "source": [
    "\n",
    "\n",
    "# conversation = [\n",
    "#     {\"role\": \"system\", \"content\": \"You are a travel guide...\"}\n",
    "# ]"
   ]
  },
  {
   "cell_type": "markdown",
   "id": "95526e00-d6b3-4af0-85aa-962b466b1176",
   "metadata": {},
   "source": [
    "## 1-shot prompt\n"
   ]
  },
  {
   "cell_type": "code",
   "execution_count": 76,
   "id": "bbd5b081-139c-4ca6-b7bc-b2fa6cf4ed03",
   "metadata": {},
   "outputs": [],
   "source": [
    "\n",
    "conversation =[\n",
    "    {\n",
    "        \"role\": \"system\",\n",
    "        \"content\":\"You are a travel guide designed to provide information about landmarks that tourists should explore in Paris. You speak in a concise manner.\"\n",
    "    },\n",
    "    {\n",
    "        \"role\":\"user\",\n",
    "        \"content\":\"What is the most famous landmark in Paris?\"\n",
    "    },\n",
    "    {\n",
    "        \"role\":\"assistant\",\n",
    "        \"content\":\"The most famous landmark in Paris is the Eiffel Tower.\"\n",
    "    },\n",
    "]\n"
   ]
  },
  {
   "cell_type": "markdown",
   "id": "d00d3d5d-7ac8-4cb9-894f-e12dd8361cbf",
   "metadata": {},
   "source": [
    "### Building Dynamic n-short prompting"
   ]
  },
  {
   "cell_type": "markdown",
   "id": "358dc40d-ddc6-4ed8-9386-2703eabbe15b",
   "metadata": {},
   "source": [
    "In each iteration:\n",
    "\n",
    "→ Add 1 more question (user)\n",
    "\n",
    "→ Generate and add 1 more answer (assistant)\n",
    "\n",
    "→ Now the model has learned from one more example"
   ]
  },
  {
   "cell_type": "code",
   "execution_count": 77,
   "id": "2b79fd47-fcd6-4210-9b2b-0f74b4e4d32a",
   "metadata": {},
   "outputs": [],
   "source": [
    "# Define a list of questions\n",
    "questions = [\n",
    "    \"How far away is the Louvre from the Eiffel Tower (in driving miles)?\",\n",
    "    \"Where is the Arc de Triomphe?\",\n",
    "    \"What are the must-see artworks at the Louvre Museum?\",\n",
    "]\n"
   ]
  },
  {
   "cell_type": "code",
   "execution_count": 78,
   "id": "739687fc-6cca-40c8-b239-af1252cd4ebf",
   "metadata": {},
   "outputs": [],
   "source": [
    "\n",
    "# # Loop through each question to generate responses\n",
    "# for question in questions:\n",
    "\n",
    "#     # Format the user input into dictionary form\n",
    "#     input_dict = {\"role\": \"user\", \"content\": question}\n",
    "    \n",
    "#     # Add the user input dictionary to the conversation\n",
    "#     conversation.append(input_dict)  \n",
    "\n",
    "#     # Make the next API call\n",
    "#     response = client.chat.completions.create(\n",
    "#         model=model,\n",
    "#         messages=conversation,\n",
    "#         temperature=0.0,\n",
    "#         max_tokens=100\n",
    "#     )\n",
    "    \n",
    "#     # Print the response from the model\n",
    "#     resp = response.choices[0].message.content\n",
    "#     print(resp)\n",
    "\n",
    "#     # Convert the response into the dictionary\n",
    "#     resp_dict = {\"role\": \"assistant\", \"content\": resp}\n",
    "    \n",
    "#     # Append the response to the conversation\n",
    "#     conversation.append(resp_dict)\n",
    "\n",
    "# print(conversation)"
   ]
  },
  {
   "cell_type": "markdown",
   "id": "df3c1e13-2269-4dab-9a21-c409d85aca19",
   "metadata": {},
   "source": [
    "**Note:** At this point - create Travel Chatbot AI App"
   ]
  },
  {
   "cell_type": "markdown",
   "id": "96278945-9190-4ce3-9af4-629591c3453d",
   "metadata": {},
   "source": [
    "## Open AI's Tools"
   ]
  },
  {
   "cell_type": "markdown",
   "id": "a75e95b4-be79-4f1e-aae6-4ff08d7d1ac5",
   "metadata": {},
   "source": [
    "### Function Calling"
   ]
  },
  {
   "cell_type": "markdown",
   "id": "49fd570a-0fed-4296-8fe5-c07f28ababa3",
   "metadata": {},
   "source": [
    "### Check for inconsistency in response by running it multiple times"
   ]
  },
  {
   "cell_type": "code",
   "execution_count": 79,
   "id": "87e5435b-69c2-4135-a4ad-a8c070091d9e",
   "metadata": {},
   "outputs": [],
   "source": [
    "# response = client.chat.completions.create(model=model, \n",
    "#                                           messages=[   {\"role\": \"user\", \"content\": \"Please write down four trees with their scientific names in json.\"} ], \n",
    "#                                           )\n",
    "# print(response.choices[0].message.content)\n"
   ]
  },
  {
   "cell_type": "code",
   "execution_count": 80,
   "id": "f2f25100-fe8b-4269-9caa-366edcb9c649",
   "metadata": {},
   "outputs": [],
   "source": [
    "# [\n",
    "#   {\n",
    "#     \"commonName\": \"Apple Tree\",\n",
    "#     \"scientificName\": \"Malus domestica\"\n",
    "#   },\n",
    "#   {\n",
    "#     \"commonName\": \"Silver Birch\",\n",
    "#     \"scientificName\": \"Betula pendula\"\n",
    "#   },\n",
    "#   {\n",
    "#     \"commonName\": \"English Oak\",\n",
    "#     \"scientificName\": \"Quercus robur\"\n",
    "#   },\n",
    "#   {\n",
    "#     \"commonName\": \"Scots Pine\",\n",
    "#     \"scientificName\": \"Pinus sylvestris\"\n",
    "#   }\n",
    "# ]\n"
   ]
  },
  {
   "cell_type": "markdown",
   "id": "f18e8575-b96d-4f8f-b058-329fd662c99b",
   "metadata": {},
   "source": [
    "Function calling is for consistent responses by adding user defined function during api call:\n",
    "- Going from unstructured to consistent structured output\n",
    "- Calling multiple functions to provide complex responses\n",
    "- Calling external APIs\n"
   ]
  },
  {
   "cell_type": "markdown",
   "id": "8c51ba99-ce91-4966-b225-4b00d816b791",
   "metadata": {},
   "source": [
    "#### Function Calling - Extracting Structured Data"
   ]
  },
  {
   "cell_type": "markdown",
   "id": "5eb8361c-ca7b-499b-a92e-7cf9646cec46",
   "metadata": {},
   "source": [
    "#### Use Case 2:"
   ]
  },
  {
   "cell_type": "markdown",
   "id": "5bc751a1-1753-44ae-9735-6c0d3582971a",
   "metadata": {},
   "source": [
    "You are developing an AI application for a real estate agency and have been asked to extract some key data from listings: house type, location, price, number of bedrooms. Use the Chat Completions endpoint with function calling to extract the information."
   ]
  },
  {
   "cell_type": "code",
   "execution_count": 81,
   "id": "84d8da09-55c0-45e9-af0d-979cd8ada416",
   "metadata": {},
   "outputs": [],
   "source": [
    "# # Sample listing text\n",
    "# listing_text = \"\"\"\n",
    "# This charming 3-bedroom townhouse located in San Diego, CA is now available for $750,000. \n",
    "# Features a spacious kitchen, backyard, and is ideal for families.\n",
    "# \"\"\"\n",
    "\n",
    "# # Define the conversation\n",
    "# message_listing = [\n",
    "#     {\n",
    "#         \"role\": \"system\",\n",
    "#         \"content\": \"You are a real estate assistant that extracts structured data from property listings.\"\n",
    "#     },\n",
    "#     {\n",
    "#         \"role\": \"user\",\n",
    "#         \"content\": f\"Extract the house type, location, price, and number of bedrooms from this listing: {listing_text}\"\n",
    "#     }\n",
    "# ]\n",
    "\n",
    "# # Define the expected function response (tool)\n",
    "# function_definition = [\n",
    "#     {\n",
    "#         \"type\": \"function\",\n",
    "#         \"function\": {\n",
    "#             \"name\": \"extract_real_estate_data\",\n",
    "#             \"description\": \"Extract house type, location, price, and number of bedrooms from a real estate listing.\",\n",
    "#             \"parameters\": {\n",
    "#                 \"type\": \"object\",\n",
    "#                 \"properties\": {\n",
    "#                     \"house_type\": {\n",
    "#                         \"type\": \"string\",\n",
    "#                         \"description\": \"The type of the house, e.g. apartment, townhouse, villa, etc.\"\n",
    "#                     },\n",
    "#                     \"location\": {\n",
    "#                         \"type\": \"string\",\n",
    "#                         \"description\": \"City and state where the house is located\"\n",
    "#                     },\n",
    "#                     \"price\": {\n",
    "#                         \"type\": \"integer\",\n",
    "#                         \"description\": \"Listing price in USD\"\n",
    "#                     },\n",
    "#                     \"bedrooms\": {\n",
    "#                         \"type\": \"integer\",\n",
    "#                         \"description\": \"Number of bedrooms\"\n",
    "#                     }\n",
    "#                 },\n",
    "#                 \"required\": [\"house_type\", \"location\", \"price\", \"bedrooms\"]\n",
    "#             }\n",
    "#         }\n",
    "#     }\n",
    "# ]\n",
    "\n",
    "# response= client.chat.completions.create(\n",
    "#     model=model,\n",
    "#     # Add the message \n",
    "#     messages=message_listing,\n",
    "#     # Add your function definition\n",
    "#     tools=function_definition\n",
    "# )\n",
    "\n",
    "# # # Print the response\n",
    "# # print(response.choices[0].message.tool_calls[0].function.arguments)\n",
    "\n",
    "# # Parse and print the structured data\n",
    "# parsed_data = json.loads(response.choices[0].message.tool_calls[0].function.arguments)\n",
    "# print(parsed_data)"
   ]
  },
  {
   "cell_type": "markdown",
   "id": "5dc3ca6b-025d-4435-9cd7-b0b7b0bef769",
   "metadata": {},
   "source": [
    "#### Use Case 2:"
   ]
  },
  {
   "cell_type": "markdown",
   "id": "7ec5a631-d791-4a40-a762-6205fe83b0a5",
   "metadata": {},
   "source": [
    "You are working on a research project where you need to extract key information from a collection of scientific research papers. The goal is to create a summary of key information from the papers you are given, that includes the title and year of publication. To compile this, you decide to use the OpenAI API with function calling to extract the key information."
   ]
  },
  {
   "cell_type": "code",
   "execution_count": 82,
   "id": "b90d5a32-0fc1-4329-aeb2-b51a3b479bd0",
   "metadata": {},
   "outputs": [],
   "source": [
    "\n",
    "# # Sample research paper text\n",
    "# sample_paper = \"\"\"\n",
    "# Title: Deep Learning for Healthcare\n",
    "# Abstract: In this paper, we explore how deep learning models are revolutionizing healthcare applications...\n",
    "# Published: 2021\n",
    "# \"\"\"\n",
    "\n",
    "# # Define the messages\n",
    "# messages = [\n",
    "#     {\n",
    "#         \"role\": \"system\",\n",
    "#         \"content\": \"You are a research assistant that extracts key information from academic papers. \"\n",
    "#                    \"Always return both the title and year. If missing, return 'Unknown'.\"\n",
    "#     },\n",
    "#     {\n",
    "#         \"role\": \"user\",\n",
    "#         \"content\": f\"Extract the title and year of publication from this paper:\\n\\n{sample_paper}\"\n",
    "#     }\n",
    "# ]\n",
    "\n",
    "# # Define the function schema\n",
    "# function_definition = [\n",
    "#     {\n",
    "#         \"type\": \"function\",\n",
    "#         \"function\": {\n",
    "#             \"name\": \"extract_paper_info\",\n",
    "#             \"description\": \"Extract title and year of publication from the research paper\",\n",
    "#             \"parameters\": {}\n",
    "#         }\n",
    "#     }\n",
    "# ]\n",
    "\n",
    "# # Define the function parameter type\n",
    "# function_definition[0]['function']['parameters']['type'] = \"object\"\n",
    "\n",
    "# # Define the function properties\n",
    "# function_definition[0]['function']['parameters']['properties'] = {\n",
    "#     'title': {'type': 'string', 'description': 'Title of the research paper'},\n",
    "#     'year': {'type': 'string', 'description': 'Year of publication of the research paper'}\n",
    "# }\n",
    "\n",
    "\n",
    "# # Define helper function to make the call\n",
    "# def get_response(messages, function_definition):\n",
    "#     response = client.chat.completions.create(\n",
    "#         model=model,  # or gpt-4-0613\n",
    "#         messages=messages,\n",
    "#         tools=function_definition,\n",
    "#         tool_choice=\"auto\"\n",
    "#     )\n",
    "#     return json.loads(response.choices[0].message.tool_calls[0].function.arguments)\n",
    "\n",
    "# # Get and print the response\n",
    "# response = get_response(messages, function_definition)\n",
    "# print(\"Extracted Info:\")\n",
    "# print(f\"Title: {response['title']}\")\n",
    "# print(f\"Year: {response['year']}\")\n"
   ]
  },
  {
   "cell_type": "markdown",
   "id": "416509c8-bc36-4190-a604-f1a66be49c9f",
   "metadata": {},
   "source": [
    "#### Use Case 3: Sentiment Analysis From Review - Enriching Data"
   ]
  },
  {
   "cell_type": "markdown",
   "id": "e6bced54-7c07-47e5-964c-24d10999cf83",
   "metadata": {},
   "source": [
    "You work for a company that has just launched a new smartphone. The marketing team has collected customer reviews from various online platforms and wants to analyze the feedback to understand the customer sentiment and the most talked-about features of the smartphone. To accelerate this, you've used the OpenAI API to extract structured data from these reviews, using function calling. "
   ]
  },
  {
   "cell_type": "markdown",
   "id": "1a3072ea-6441-4197-86d7-8d6adf14010e",
   "metadata": {},
   "source": [
    "**Note:** At this point - create Organize Medical Transcription App"
   ]
  },
  {
   "cell_type": "code",
   "execution_count": 88,
   "id": "b2dbb566-e9cd-4488-aef3-d7d368e10705",
   "metadata": {},
   "outputs": [
    {
     "name": "stdout",
     "output_type": "stream",
     "text": [
      "                                              review sentiment  \\\n",
      "0             Good but need updates and improvements   Neutral   \n",
      "1  Worst mobile i have bought ever, Battery is dr...  Negative   \n",
      "2  when I will get my 10% cash back.... its alrea...  Negative   \n",
      "3                                               Good  Positive   \n",
      "4  The worst phone everThey have changed the last...  Negative   \n",
      "5  Only I'm telling don't buyI'm totally disappoi...  Negative   \n",
      "6  Phone is awesome. But while charging, it heats...     Mixed   \n",
      "7                    The battery level has worn down  Negative   \n",
      "8  It's over hitting problems...and phone hanging...  Negative   \n",
      "\n",
      "                                            features  \n",
      "0                              updates, improvements  \n",
      "1  battery, charging time, backup, product authen...  \n",
      "2                       10% cash back, delivery time  \n",
      "3                                                     \n",
      "4                               phone, return policy  \n",
      "5                                    battery, camera  \n",
      "6           Phone, Charging, Heating, Lenovo k8 note  \n",
      "7                                      battery level  \n",
      "8  Overheating, Phone hanging, Service station, W...  \n"
     ]
    }
   ],
   "source": [
    "\n",
    "# Sample review (can be looped over later)\n",
    "sample_review = \"\"\"\n",
    "I recently bought the new XYZPhone and I'm really impressed with the battery life and the camera quality.\n",
    "However, the screen brightness is a bit dull outdoors.\n",
    "\"\"\"\n",
    "# Load customer reviews\n",
    "df = pd.read_csv(\"reviews.csv\")\n",
    "\n",
    "# Define system and user prompt\n",
    "messages = [\n",
    "    {\n",
    "        \"role\": \"system\",\n",
    "        \"content\": \"You are a helpful assistant that extracts customer sentiment and mentioned smartphone features from reviews.\"\n",
    "    },\n",
    "    {\n",
    "        \"role\": \"user\",\n",
    "        \"content\": f\"Analyze this customer review:\\n{sample_review}\"\n",
    "    }\n",
    "]\n",
    "# Define the function definitions\n",
    "function_definition = [\n",
    "    {\n",
    "        \"type\": \"function\",\n",
    "        \"function\": {\n",
    "            \"name\": \"extract_review_insights\",\n",
    "            \"description\": \"Extract sentiment and mentioned features from a review.\",\n",
    "            \"parameters\": {\n",
    "                \"type\": \"object\",\n",
    "                \"properties\": {\n",
    "                    \"sentiment\": {\n",
    "                        \"type\": \"string\",\n",
    "                        \"description\": \"Overall sentiment of the review. One of: Positive, Negative, Neutral\"\n",
    "                    },\n",
    "                    \"features\": {\n",
    "                        \"type\": \"array\",\n",
    "                        \"items\": {\"type\": \"string\"},\n",
    "                        \"description\": \"List of product features mentioned\"\n",
    "                    }\n",
    "                },\n",
    "                \"required\": [\"sentiment\", \"features\"]\n",
    "            }\n",
    "        }\n",
    "    },\n",
    "    {\n",
    "        \"type\": \"function\",\n",
    "        \"function\": {\n",
    "            \"name\": \"reply_to_review\",\n",
    "            \"description\": \"Generate a friendly response to the customer's review.\",\n",
    "            \"parameters\": {\n",
    "                \"type\": \"object\",\n",
    "                \"properties\": {\n",
    "                    \"reply\": {\n",
    "                        \"type\": \"string\",\n",
    "                        \"description\": \"A friendly and appreciative reply to the customer based on their review.\"\n",
    "                    }\n",
    "                },\n",
    "                \"required\": [\"reply\"]\n",
    "            }\n",
    "        }\n",
    "    }\n",
    "]\n",
    "# Prepare a list to hold results\n",
    "results = []\n",
    "\n",
    "# Loop through each review\n",
    "for review in df['review']:\n",
    "    messages = [\n",
    "        {\n",
    "            \"role\": \"system\",\n",
    "            \"content\": \"You are a helpful assistant analyzing customer reviews and crafting replies.\"\n",
    "        },\n",
    "        {\n",
    "            \"role\": \"user\",\n",
    "            \"content\": f\"Analyze this customer review and create a response:\\n{review}\"\n",
    "        }\n",
    "    ]\n",
    "\n",
    "    # Call the OpenAI API with parallel tool use\n",
    "    response = client.chat.completions.create(\n",
    "        model=model,\n",
    "        messages=messages,\n",
    "        tools=function_definition,\n",
    "        tool_choice=\"auto\"\n",
    "    )\n",
    "\n",
    "    # Parse the outputs\n",
    "    tool_calls = response.choices[0].message.tool_calls\n",
    "    output = {\"review\": review}\n",
    "\n",
    "    for call in tool_calls:\n",
    "        args = json.loads(call.function.arguments)\n",
    "        if call.function.name == \"extract_review_insights\":\n",
    "            output.update({\n",
    "                \"sentiment\": args.get(\"sentiment\", \"Unknown\"),\n",
    "                \"features\": \", \".join(args.get(\"features\", []))\n",
    "            })\n",
    "        elif call.function.name == \"reply_to_review\":\n",
    "            output[\"reply\"] = args.get(\"reply\", \"N/A\")\n",
    "\n",
    "    results.append(output)\n",
    "\n",
    "# Convert to DataFrame\n",
    "df_results = pd.DataFrame(results)\n",
    "\n",
    "# Display or save the result\n",
    "print(df_results)\n"
   ]
  },
  {
   "cell_type": "code",
   "execution_count": 86,
   "id": "f0e9a065-f144-43fe-acae-a9e6c3a39cd6",
   "metadata": {},
   "outputs": [],
   "source": [
    "## Analyzing Reviews in csv"
   ]
  },
  {
   "cell_type": "code",
   "execution_count": 85,
   "id": "6365569f-01ef-4403-9646-5a93d732ac50",
   "metadata": {},
   "outputs": [],
   "source": [
    "# import pandas as pd\n",
    "\n",
    "# df = pd.read_csv(\"reviews.csv\")  # assumes a 'review' column\n",
    "# results = []\n",
    "\n",
    "# for review in df['review']:\n",
    "#     messages[1]['content'] = f\"Analyze this customer review:\\n{review}\"\n",
    "#     result = extract_sentiment_and_features(messages, function_definition)\n",
    "#     results.append(result)\n",
    "\n",
    "# # Convert to DataFrame and save\n",
    "# structured_df = pd.DataFrame(results)\n",
    "# structured_df.to_csv(\"structured_reviews.csv\", index=False)"
   ]
  },
  {
   "cell_type": "markdown",
   "id": "342b16c9-5bda-490c-8fc2-19c5e171d32f",
   "metadata": {},
   "source": [
    "#### Function Calling with APIs"
   ]
  }
 ],
 "metadata": {
  "kernelspec": {
   "display_name": "Python 3 (ipykernel)",
   "language": "python",
   "name": "python3"
  },
  "language_info": {
   "codemirror_mode": {
    "name": "ipython",
    "version": 3
   },
   "file_extension": ".py",
   "mimetype": "text/x-python",
   "name": "python",
   "nbconvert_exporter": "python",
   "pygments_lexer": "ipython3",
   "version": "3.12.7"
  }
 },
 "nbformat": 4,
 "nbformat_minor": 5
}
