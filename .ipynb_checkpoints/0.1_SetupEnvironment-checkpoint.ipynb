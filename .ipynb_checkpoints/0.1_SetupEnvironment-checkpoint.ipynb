{
 "cells": [
  {
   "cell_type": "markdown",
   "id": "6dde5753-f588-43d6-8ad5-586ef66057e6",
   "metadata": {},
   "source": [
    "<h1><center>Introduction To OPEN AI API</center></h1>\n",
    "<h2><center>Making Calls</center></h2>\n",
    "<h3><center>Build AI Apps - Beginner Level</center></h3>\n"
   ]
  },
  {
   "cell_type": "markdown",
   "id": "1b3f4bfa-7446-4110-b6a0-f0102e12e46d",
   "metadata": {},
   "source": [
    "## Introduce OPEN AI API"
   ]
  },
  {
   "cell_type": "markdown",
   "id": "84372b75-27b3-41aa-8171-1e947e62bc10",
   "metadata": {},
   "source": [
    "## Before you start\n",
    "\n",
    "In order to complete the project you will need to create a developer account with OpenAI and store your API key as an environment variable. Instructions for these steps are outlined below.\n",
    "\n",
    "### Create a developer account with OpenAI\n",
    "\n",
    "1. Go to the [API signup page](https://platform.openai.com/signup). \n",
    "\n",
    "2. Create your account (you'll need to provide your email address and your phone number).\n",
    "\n",
    "3. Go to the [API keys page](https://platform.openai.com/account/api-keys). \n",
    "\n",
    "4. Create a new secret key.\n",
    "\n",
    "\n",
    "5. **Take a copy of it**. (If you lose it, delete the key and create a new one.)"
   ]
  },
  {
   "cell_type": "markdown",
   "id": "af8f4516-3ada-4399-81f1-2cb9df130d1b",
   "metadata": {},
   "source": [
    "### Add a payment method\n",
    "\n",
    "OpenAI sometimes provides free credits for the API, but this can vary based on geography. You may need to add debit/credit card details. \n",
    "\n",
    "**Using the `gpt-3.5-turbo` model in this project should incur a cost less than 1 US cent (but if you rerun tasks, you will be charged every time).** For more information on pricing, see [OpenAI's pricing page](https://openai.com/pricing).\n",
    "\n",
    "1. Go to the [Payment Methods page](https://platform.openai.com/account/billing/payment-methods).\n",
    "\n",
    "2. Click Add payment method.\n",
    "\n",
    "3. Fill in your card details."
   ]
  },
  {
   "cell_type": "markdown",
   "id": "8ed9bc79-d512-49e6-8e9a-412a81e53b9b",
   "metadata": {},
   "source": [
    "### Install open ai library\n"
   ]
  },
  {
   "cell_type": "code",
   "execution_count": 1,
   "id": "226e38de-3f91-4e5a-9dc5-92ee4938a990",
   "metadata": {},
   "outputs": [
    {
     "name": "stdout",
     "output_type": "stream",
     "text": [
      "Collecting openai\n",
      "  Downloading openai-1.77.0-py3-none-any.whl.metadata (25 kB)\n",
      "Requirement already satisfied: anyio<5,>=3.5.0 in c:\\users\\agaan\\anaconda3\\envs\\openai-genai\\lib\\site-packages (from openai) (4.2.0)\n",
      "Requirement already satisfied: distro<2,>=1.7.0 in c:\\users\\agaan\\anaconda3\\envs\\openai-genai\\lib\\site-packages (from openai) (1.9.0)\n",
      "Requirement already satisfied: httpx<1,>=0.23.0 in c:\\users\\agaan\\anaconda3\\envs\\openai-genai\\lib\\site-packages (from openai) (0.27.0)\n",
      "Collecting jiter<1,>=0.4.0 (from openai)\n",
      "  Using cached jiter-0.9.0-cp312-cp312-win_amd64.whl.metadata (5.3 kB)\n",
      "Requirement already satisfied: pydantic<3,>=1.9.0 in c:\\users\\agaan\\anaconda3\\envs\\openai-genai\\lib\\site-packages (from openai) (2.8.2)\n",
      "Requirement already satisfied: sniffio in c:\\users\\agaan\\anaconda3\\envs\\openai-genai\\lib\\site-packages (from openai) (1.3.0)\n",
      "Requirement already satisfied: tqdm>4 in c:\\users\\agaan\\anaconda3\\envs\\openai-genai\\lib\\site-packages (from openai) (4.66.5)\n",
      "Requirement already satisfied: typing-extensions<5,>=4.11 in c:\\users\\agaan\\anaconda3\\envs\\openai-genai\\lib\\site-packages (from openai) (4.11.0)\n",
      "Requirement already satisfied: idna>=2.8 in c:\\users\\agaan\\anaconda3\\envs\\openai-genai\\lib\\site-packages (from anyio<5,>=3.5.0->openai) (3.7)\n",
      "Requirement already satisfied: certifi in c:\\users\\agaan\\anaconda3\\envs\\openai-genai\\lib\\site-packages (from httpx<1,>=0.23.0->openai) (2024.8.30)\n",
      "Requirement already satisfied: httpcore==1.* in c:\\users\\agaan\\anaconda3\\envs\\openai-genai\\lib\\site-packages (from httpx<1,>=0.23.0->openai) (1.0.2)\n",
      "Requirement already satisfied: h11<0.15,>=0.13 in c:\\users\\agaan\\anaconda3\\envs\\openai-genai\\lib\\site-packages (from httpcore==1.*->httpx<1,>=0.23.0->openai) (0.14.0)\n",
      "Requirement already satisfied: annotated-types>=0.4.0 in c:\\users\\agaan\\anaconda3\\envs\\openai-genai\\lib\\site-packages (from pydantic<3,>=1.9.0->openai) (0.6.0)\n",
      "Requirement already satisfied: pydantic-core==2.20.1 in c:\\users\\agaan\\anaconda3\\envs\\openai-genai\\lib\\site-packages (from pydantic<3,>=1.9.0->openai) (2.20.1)\n",
      "Requirement already satisfied: colorama in c:\\users\\agaan\\anaconda3\\envs\\openai-genai\\lib\\site-packages (from tqdm>4->openai) (0.4.6)\n",
      "Downloading openai-1.77.0-py3-none-any.whl (662 kB)\n",
      "   ---------------------------------------- 0.0/662.0 kB ? eta -:--:--\n",
      "   ---------------------------------------- 662.0/662.0 kB 8.5 MB/s eta 0:00:00\n",
      "Using cached jiter-0.9.0-cp312-cp312-win_amd64.whl (207 kB)\n",
      "Installing collected packages: jiter, openai\n",
      "Successfully installed jiter-0.9.0 openai-1.77.0\n"
     ]
    }
   ],
   "source": [
    "!pip install openai"
   ]
  },
  {
   "cell_type": "markdown",
   "id": "0a7de273-9a26-4793-a24e-09a9a213a0fa",
   "metadata": {},
   "source": [
    "### Load Open AI Key"
   ]
  },
  {
   "cell_type": "code",
   "execution_count": 2,
   "id": "0a9a6a5e-ec60-46c3-a43c-474d23fc14c0",
   "metadata": {},
   "outputs": [],
   "source": [
    "import os\n",
    "from openai import OpenAI\n",
    "\n",
    "from dotenv import load_dotenv, find_dotenv\n",
    "_ = load_dotenv(find_dotenv()) # read local .env file\n",
    "\n",
    "OPEN_API_KEY=os.getenv('OPENAI_API_KEY')\n",
    "\n",
    "# Define Model\n",
    "model=\"gpt-4o-mini\"\n",
    "\n",
    "#define client\n",
    "client = OpenAI(api_key=OPEN_API_KEY)"
   ]
  },
  {
   "cell_type": "markdown",
   "id": "69fdbf0a-1211-4cd0-a9f1-c6b1c460e698",
   "metadata": {},
   "source": [
    "## Make Your First Call"
   ]
  },
  {
   "cell_type": "code",
   "execution_count": 4,
   "id": "e7c01fdf-32ca-4113-b01b-6c7897dc2503",
   "metadata": {},
   "outputs": [
    {
     "name": "stdout",
     "output_type": "stream",
     "text": [
      "Gravity is like an invisible force that pulls things down to the ground, like when you jump and come back down. It helps keep us, our toys, and everything else on the Earth!\n"
     ]
    }
   ],
   "source": [
    "\n",
    "# Create the request\n",
    "response = client.chat.completions.create(\n",
    "  model=model,\n",
    "  messages=[\n",
    "   {\"role\": \"user\", \"content\": \"Tell me like I am a 5 year old kid what is gravity in 2 lines\"}]\n",
    ")\n",
    "\n",
    "# Print the response\n",
    "print(response.choices[0].message.content)"
   ]
  }
 ],
 "metadata": {
  "kernelspec": {
   "display_name": "Python 3 (ipykernel)",
   "language": "python",
   "name": "python3"
  },
  "language_info": {
   "codemirror_mode": {
    "name": "ipython",
    "version": 3
   },
   "file_extension": ".py",
   "mimetype": "text/x-python",
   "name": "python",
   "nbconvert_exporter": "python",
   "pygments_lexer": "ipython3",
   "version": "3.12.7"
  }
 },
 "nbformat": 4,
 "nbformat_minor": 5
}
