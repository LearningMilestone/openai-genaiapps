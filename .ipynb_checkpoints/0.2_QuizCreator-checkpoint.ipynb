{
 "cells": [
  {
   "cell_type": "markdown",
   "id": "eebd4799-0b41-4b5e-851b-48921e346fe0",
   "metadata": {},
   "source": [
    "<h1><center>Automatic Quiz Generation from Documents</center></h1>\n",
    "<h2><center>AI-powered Educational Assistant / Content Generator</center></h2>\n",
    "<h3><center>Build AI Apps - Beginner Level</center></h3>\n",
    "<h4><center>Education<center></h4>"
   ]
  },
  {
   "cell_type": "markdown",
   "id": "3027c076-f502-4193-bc3e-e18be296c413",
   "metadata": {},
   "source": [
    "**Use Case** : Create an educational quiz bot using the OpenAI API to generate questions and answers:"
   ]
  },
  {
   "cell_type": "markdown",
   "id": "6921b900-268e-4c86-990a-ad207b5b62ce",
   "metadata": {},
   "source": [
    "## Before you start\n",
    "\n",
    "In order to complete the project you will need to create a developer account with OpenAI and store your API key as an environment variable. Instructions for these steps are outlined below.\n",
    "\n",
    "### Create a developer account with OpenAI\n",
    "\n",
    "1. Go to the [API signup page](https://platform.openai.com/signup). \n",
    "\n",
    "2. Create your account (you'll need to provide your email address and your phone number).\n",
    "\n",
    "3. Go to the [API keys page](https://platform.openai.com/account/api-keys). \n",
    "\n",
    "4. Create a new secret key.\n",
    "\n",
    "\n",
    "5. **Take a copy of it**. (If you lose it, delete the key and create a new one.)"
   ]
  },
  {
   "cell_type": "markdown",
   "id": "c474a63a-332f-43b6-897e-7d696e494982",
   "metadata": {},
   "source": [
    "### Add a payment method\n",
    "\n",
    "OpenAI sometimes provides free credits for the API, but this can vary based on geography. You may need to add debit/credit card details. \n",
    "\n",
    "**Using the `gpt-3.5-turbo` model in this project should incur a cost less than 1 US cent (but if you rerun tasks, you will be charged every time).** For more information on pricing, see [OpenAI's pricing page](https://openai.com/pricing).\n",
    "\n",
    "1. Go to the [Payment Methods page](https://platform.openai.com/account/billing/payment-methods).\n",
    "\n",
    "2. Click Add payment method.\n",
    "\n",
    "3. Fill in your card details."
   ]
  },
  {
   "cell_type": "markdown",
   "id": "2607550d-859a-4a59-9a0f-7fe6a44fffba",
   "metadata": {},
   "source": [
    "### Install open ai library\n"
   ]
  },
  {
   "cell_type": "code",
   "execution_count": 9,
   "id": "c2fa4667-fcb0-4ce2-b7df-6564bb8dce07",
   "metadata": {},
   "outputs": [],
   "source": [
    "# !pip install openai"
   ]
  },
  {
   "cell_type": "markdown",
   "id": "54285369-ded7-4168-9a44-2bc5cd72c4ee",
   "metadata": {},
   "source": [
    "### Load Open AI Key"
   ]
  },
  {
   "cell_type": "code",
   "execution_count": 10,
   "id": "2bd3a009-47b2-4cfe-8168-895c15c20cc9",
   "metadata": {},
   "outputs": [],
   "source": [
    "import os\n",
    "from openai import OpenAI\n",
    "\n",
    "from dotenv import load_dotenv, find_dotenv\n",
    "_ = load_dotenv(find_dotenv()) # read local .env file\n",
    "\n",
    "OPEN_API_KEY=os.getenv('OPENAI_API_KEY')\n",
    "\n",
    "# Define Model\n",
    "model=\"gpt-4o-mini\"\n",
    "\n",
    "#define client\n",
    "client = OpenAI(api_key=OPEN_API_KEY)"
   ]
  },
  {
   "cell_type": "markdown",
   "id": "a7deacb4-a4cf-4254-867f-68910fa48320",
   "metadata": {},
   "source": [
    "# Application"
   ]
  },
  {
   "cell_type": "code",
   "execution_count": 20,
   "id": "152a1ae4-acb1-4a31-a1f0-796ea149e70d",
   "metadata": {},
   "outputs": [],
   "source": [
    "# Safely read a limited number of lines from a text file\n",
    "def read_text_from_file(filename, max_lines=100):\n",
    "    try:\n",
    "        with open(filename, 'r') as file:\n",
    "            return ''.join([line for _, line in zip(range(max_lines), file)])\n",
    "    except FileNotFoundError:\n",
    "        print(f\"Error: {filename} not found.\")\n",
    "        return \"\"\n",
    "\n",
    "# Read content from the file\n",
    "content = read_text_from_file(\"physics_lecture.txt\")\n"
   ]
  },
  {
   "cell_type": "code",
   "execution_count": 21,
   "id": "bee73af5-136a-4a20-8baf-14075e886b18",
   "metadata": {},
   "outputs": [],
   "source": [
    "\n",
    "# Define the system prompt (describing the assistant's behavior)\n",
    "system_prompt = \"\"\"\n",
    "You are a teaching assistant that generates multiple-choice questions from a provided educational text.\n",
    "Your role is to assist educators by creating quiz questions with one correct answer.\n",
    "\"\"\"\n",
    "\n",
    "# Define the user prompt template (input provided by the user)\n",
    "user_prompt = \"\"\"\n",
    "Generate a multiple-choice quiz question from the given text:\n",
    "\n",
    "Format:\n",
    "Question: <Generated Question>\n",
    "Options:\n",
    "a) <Option 1>\n",
    "b) <Option 2>\n",
    "c) <Option 3>\n",
    "d) <Option 4>\n",
    "Answer: <Correct Option>\n",
    "\"\"\""
   ]
  },
  {
   "cell_type": "code",
   "execution_count": 22,
   "id": "204eb810-0a41-430e-be79-60c059c6c115",
   "metadata": {},
   "outputs": [
    {
     "data": {
      "text/plain": [
       "'Question: What is the study of the processes involved with friction called?  \\nOptions:  \\na) Kinetics  \\nb) Thermodynamics  \\nc) Tribology  \\nd) Mechanics  \\nAnswer: c) Tribology'"
      ]
     },
     "execution_count": 22,
     "metadata": {},
     "output_type": "execute_result"
    }
   ],
   "source": [
    "def generate_quiz_questions(text):\n",
    "    \"\"\"\n",
    "    Generates a list of multiple-choice quiz questions and answers from the provided text.\n",
    "    Args: text (str): The input text from which quiz questions are generated.\n",
    "    Returns: list: A list of dictionaries containing quiz questions, options, and correct answers.\n",
    "    \"\"\"\n",
    "    # List to store generated quiz questions and answers\n",
    "    quiz_data_list = []\n",
    "\n",
    "    for i in range(5):\n",
    "        \n",
    "        # Get a response from the OpenAI API to generate the quiz questions\n",
    "        response = client.chat.completions.create(\n",
    "            model=model,\n",
    "            messages=[\n",
    "                {\"role\": \"system\", \"content\": system_prompt + text},\n",
    "                {\"role\": \"user\", \"content\": user_prompt}\n",
    "            ],\n",
    "            max_tokens=500\n",
    "        )\n",
    "\n",
    "        # Extract the questions and answers from the response\n",
    "        question_and_answer = response.choices[0].message.content\n",
    "\n",
    "        # Add the generated question and answer to the list\n",
    "        quiz_data_list.append(question_and_answer)\n",
    "\n",
    "    return quiz_data_list\n",
    "\n",
    "# Generate quiz questions from the content provided\n",
    "quiz_data = generate_quiz_questions(content)\n",
    "\n",
    "# View the first question and answer set\n",
    "quiz_data[0]"
   ]
  }
 ],
 "metadata": {
  "kernelspec": {
   "display_name": "Python 3 (ipykernel)",
   "language": "python",
   "name": "python3"
  },
  "language_info": {
   "codemirror_mode": {
    "name": "ipython",
    "version": 3
   },
   "file_extension": ".py",
   "mimetype": "text/x-python",
   "name": "python",
   "nbconvert_exporter": "python",
   "pygments_lexer": "ipython3",
   "version": "3.12.7"
  }
 },
 "nbformat": 4,
 "nbformat_minor": 5
}
